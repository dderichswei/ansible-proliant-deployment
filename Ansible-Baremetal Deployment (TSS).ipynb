{
 "cells": [
  {
   "cell_type": "markdown",
   "metadata": {},
   "source": [
    "# Ansible - Baremetal Deployment  (OneView and ILO)"
   ]
  },
  {
   "cell_type": "markdown",
   "metadata": {},
   "source": [
    "created by Dirk Derichsweiler<br>\n",
    "do not hesitate to contact me: derdirk@hpe.com\n",
    "\n",
    "\n",
    "<img src=\"media/Overview.png\" height=\"800\" width=\"800\" align=\"left\"> <br>\n",
    "<br>\n",
    "<br>\n",
    "<br>\n",
    "<br>\n",
    "<br>\n",
    "<br>\n",
    "<br>\n",
    "<br>\n",
    "<br>\n",
    "<br>\n",
    "<br>\n",
    "<br>\n",
    "<br>\n",
    "<br>\n",
    "<br>\n",
    "<br>\n",
    "<br>\n",
    "<br>\n",
    "<br>\n",
    "<br>\n",
    "<br>\n",
    "<br>\n",
    "<br>\n",
    "<br>\n",
    "<br>\n",
    "<br>\n",
    "<br>\n",
    "\n",
    "---\n",
    "***kudos to:***\n",
    "\n",
    "Christopher Kurka, to provide the example code in yammer!! --> https://www.yammer.com/hpe.com/#/threads/show?threadId=415736540717056<br>\n",
    "Stephan Koch, to find it and create a full working demo in the demo center in BBN!\n",
    "\n",
    "---\n",
    "## jupyter Notebook\n",
    "\n",
    "you can find the notebook here: https://github.com/dderichswei/ansible-proliant-deployment <br>\n",
    "Ansible Deployment video is hosted on youtube: https://youtu.be/antOkU74YXk\n",
    "\n",
    "\n",
    "\n",
    "## requirements\n",
    "\n",
    "a web-server, to host the iso and the kickstart file! \n",
    "\n",
    "***the following python libraries:***<br>\n",
    "hpOneView           5.0.0b0 - https://github.com/HewlettPackard/oneview-ansible <br>\n",
    "python-hpilo        4.3 - https://docs.ansible.com/ansible/latest/modules/hpilo_boot_module.html<br>\n",
    "<br>\n",
    "***Optional:***<br>\n",
    "hpICsp              1.0.2 - https://github.com/HewlettPackard/python-hpICsp<br>\n",
    "hpe3par-sdk         1.2.0 - https://github.com/HewlettPackard/hpe3par_ansible_module<br>\n",
    "python-3parclient   4.2.9 - https://github.com/hpe-storage/python-3parclient<br>\n",
    "\n",
    "## additional information\n",
    "\n",
    "create a kickstart file:\n",
    "https://access.redhat.com/labsinfo/kickstartconfig\n",
    "\n",
    "On your HPE OneView appliance, or online<br>\n",
    "https://10.0.20.50/api-docs/current/ <br>\n",
    "http://www.hpe.com/info/oneview/docs <br>\n",
    "https://developer.hpe.com/\n",
    "\n",
    "\n",
    "## quick installation\n",
    "- install docker:\n",
    "```curl https://get.docker.com | bash ```\n",
    "\n",
    "- get source code:\n",
    "``` git clone https://github.com/dderichswei/synergy```\n",
    "\n",
    "- start jupyter, webserver and ansible within a container: ```ddcreate.sh```\n"
   ]
  },
  {
   "cell_type": "markdown",
   "metadata": {},
   "source": [
    "# Preparation"
   ]
  },
  {
   "cell_type": "markdown",
   "metadata": {},
   "source": [
    "## Prepare Boot Media"
   ]
  },
  {
   "cell_type": "markdown",
   "metadata": {},
   "source": [
    "* Download CentOS/Fedora/RHEL ISO image and mount it on any Linux Server\n",
    "* cp -pR it to a local folder \n",
    "* edit the **grub.cfg** under root of the CDROM and in EFI/BOOT\n",
    "\n",
    "```bash\n",
    "menuentry 'Install CentOS 7' --class fedora --class gnu-linux --class gnu --class os {\n",
    "        linuxefi /images/pxeboot/vmlinuz inst.stage2=hd:LABEL=CentOS\\x207\\x20x86_64 quiet inst.ks=http://osdepl.demo.local/centos/centos7ks.cfg\n",
    "        initrdefi /images/pxeboot/initrd.img\n",
    "        }\n",
    "```\n",
    "\n",
    "* write an new customized iso with:\n",
    "\n",
    "```bash\n",
    "mkisofs -o /tmp/centos7custom.iso -b isolinux/isolinux.bin -J -R -l -c isolinux/boot.cat -no-emul-boot -boot-load-size 4 -boot-info-table -eltorito-alt-boot -e images/efiboot.img -no-emul-boot -graft-points -V \"CentOS7 Server.x86_64\" .\n",
    "```\n",
    "\n",
    "* Place customized iso and kickstart file on an reachable web server\n",
    "* dhcsp server must be available\n",
    "* create an Server Profile Template\n",
    "    with an ilo user in in\n",
    "    with an network connection where the dhcp request could be handled\n",
    "    and in my case with an SAN disk and boot from SAN configuration"
   ]
  },
  {
   "cell_type": "markdown",
   "metadata": {},
   "source": [
    "# start deployment"
   ]
  },
  {
   "cell_type": "markdown",
   "metadata": {},
   "source": [
    "## disable SSH Key Checking"
   ]
  },
  {
   "cell_type": "markdown",
   "metadata": {},
   "source": [
    "to get rid of the typical ssh question:\n",
    "The authenticity of host '10.0.33.66 (10.0.33.66)' can't be established.\n",
    "ECDSA key fingerprint is SHA256:WdUFI0W5cfEBNMwm7tT1neBSDqCROlHC/2UATH1uAUE.\n",
    "Are you sure you want to continue connecting (yes/no)?\n"
   ]
  },
  {
   "cell_type": "code",
   "execution_count": 1,
   "metadata": {
    "ExecuteTime": {
     "end_time": "2020-03-10T10:13:38.752715Z",
     "start_time": "2020-03-10T10:13:38.597897Z"
    }
   },
   "outputs": [],
   "source": [
    "export ANSIBLE_HOST_KEY_CHECKING=False\n",
    "export ANSIBLE_SSH_ARGS='-o StrictHostKeyChecking=no -o UserKnownHostsFile=/dev/null'"
   ]
  },
  {
   "cell_type": "markdown",
   "metadata": {},
   "source": [
    "## create ansible playbook for Server Deployment for DL/ML/SYNERGY with ILO"
   ]
  },
  {
   "cell_type": "markdown",
   "metadata": {
    "ExecuteTime": {
     "end_time": "2020-03-09T15:39:28.995081Z",
     "start_time": "2020-03-09T15:39:28.891863Z"
    }
   },
   "source": [
    "### Workflow explanation!"
   ]
  },
  {
   "cell_type": "markdown",
   "metadata": {
    "ExecuteTime": {
     "end_time": "2020-03-09T15:34:35.396266Z",
     "start_time": "2020-03-09T15:34:35.291310Z"
    }
   },
   "source": [
    "http://10.0.31.73:8842/view/media/deploy-the-cool-way.png"
   ]
  },
  {
   "cell_type": "markdown",
   "metadata": {},
   "source": [
    "## adapt your deployment\n",
    "\n",
    "```\n",
    "* ipaddr=<IP Adress for the deployed Server>\n",
    "* hostn=<hostname of the server>\n",
    "* profile_name=<OneView Server Profile Name>\n",
    "* osflavor=<variable for flavor, ESX, CENTOS, RHEL...> ** # no edit required for this playbook **\n",
    "* osbase=LINUXBOOT # no edit required for this playbook\n",
    "* ov_template=<Server Profile Template>\n",
    "* install=<path for the installation CD>\n",
    "* source=<filename for the kickstart template> \n",
    "* destination=<path to the kickstart master file> # will be created\n",
    "```"
   ]
  },
  {
   "cell_type": "code",
   "execution_count": 2,
   "metadata": {
    "ExecuteTime": {
     "end_time": "2020-03-10T10:13:51.869704Z",
     "start_time": "2020-03-10T10:13:49.265757Z"
    }
   },
   "outputs": [],
   "source": [
    "cat << \\EOF > deployment-dd.yml\n",
    "- hosts: localhost\n",
    "  gather_facts: no\n",
    "  vars_files:\n",
    "    - vault.yml \n",
    "  vars:\n",
    "    config: '{{ playbook_dir }}/oneview_config.json'\n",
    "    server_hardware_type_name: \"SY480G10 M1:416SA M3:4820CNA\"\n",
    "    enclosure_group_name: \"3 Frame VC-ETH SAS-Switch\"\n",
    "    auto_assign_server_hardware: \"False\"\n",
    "    ov_server:         \"CTC H5 HE21, bay 3\"\n",
    "\n",
    "  tasks:\n",
    "    - set_fact: \n",
    "        ipaddr=10.0.33.66\n",
    "        hostn=dd1-ansible\n",
    "        profile_name=Ansible-Deployment-for-TSS2020-Dirk\n",
    "        osflavor=LINUXBOOT3 \n",
    "        osbase=LINUXBOOT \n",
    "        ov_template=ANSIBLE_OS_Deploy_via_iLO \n",
    "        install=http://osdepl.demo.local/centos/centos7custom.iso \n",
    "        source=kscentos.cfg.dd \n",
    "        destination=/persistent/osdepl/centos/centos7ks.cfg\n",
    "\n",
    "    - name: create custom kickstart file\n",
    "      template:\n",
    "        src: \"{{source}}\"\n",
    "        dest:  \"{{destination}}\"\n",
    "      delegate_to: localhost\n",
    "\n",
    "    - name : \"Create Server Profile from Template - {{ profile_name }}\"\n",
    "      oneview_server_profile:\n",
    "        config: \"{{ config }}\"\n",
    "        data:\n",
    "          name: \"{{ profile_name }}\"\n",
    "          serverProfileTemplateName: \"{{ ov_template }}\"\n",
    "          serverHardwareName:         \"{{ ov_server }}\"\n",
    "      register: mpHostInfo\n",
    "      delegate_to: localhost\n",
    "\n",
    "    - name: Task to boot a system using an ISO from an HP iLO interface only if the system is an HP server\n",
    "      hpilo_boot:\n",
    "        host: \"{{ server_hardware.mpHostInfo.mpIpAddresses[1].address }}\" \n",
    "        login: skoch\n",
    "        password: \"{{ iloPW }}\"\n",
    "        media: cdrom\n",
    "        image: \"{{ install }}\" \n",
    "      delegate_to: localhost\n",
    "        \n",
    "EOF"
   ]
  },
  {
   "cell_type": "code",
   "execution_count": 3,
   "metadata": {
    "ExecuteTime": {
     "end_time": "2020-03-10T10:20:47.422698Z",
     "start_time": "2020-03-10T10:13:56.855768Z"
    },
    "scrolled": true
   },
   "outputs": [
    {
     "name": "stdout",
     "output_type": "stream",
     "text": [
      "[WARNING]: No inventory was parsed, only implicit localhost is available\n",
      "[WARNING]: provided hosts list is empty, only localhost is available. Note that\n",
      "the implicit localhost does not match 'all'\n",
      "\n",
      "PLAY [localhost] ***************************************************************\n",
      "\n",
      "TASK [set_fact] ****************************************************************\n",
      "ok: [localhost]\n",
      "\n",
      "TASK [create custom kickstart file] ********************************************\n",
      "ok: [localhost -> localhost]\n",
      "\n",
      "TASK [Create Server Profile from Template - Ansible-Deployment-for-TSS2020-Dirk] ***\n",
      "changed: [localhost -> localhost]\n",
      "\n",
      "TASK [Task to boot a system using an ISO from an HP iLO interface only if the system is an HP server] ***\n",
      "changed: [localhost -> localhost]\n",
      "\n",
      "PLAY RECAP *********************************************************************\n",
      "localhost                  : ok=4    changed=2    unreachable=0    failed=0    skipped=0    rescued=0    ignored=0   \n",
      "\n"
     ]
    }
   ],
   "source": [
    "ansible-playbook ./deployment-dd.yml --vault-password-file .vault_password_file"
   ]
  },
  {
   "cell_type": "markdown",
   "metadata": {},
   "source": [
    "## Deploy an application afterwards."
   ]
  },
  {
   "cell_type": "code",
   "execution_count": null,
   "metadata": {
    "ExecuteTime": {
     "end_time": "2020-03-10T09:31:34.458061Z",
     "start_time": "2020-03-10T09:31:32.013045Z"
    }
   },
   "outputs": [],
   "source": [
    "cat << \\EOF > application.yml\n",
    "---\n",
    "- hosts: all\n",
    "  gather_facts: no\n",
    "  remote_user: dderichswei\n",
    "  tasks:\n",
    "   - set_fact: \n",
    "        ipaddr=10.0.33.66  \n",
    "   \n",
    "   - name: wait for port 22 to become active\n",
    "     wait_for:\n",
    "        host: \"{{ipaddr}}\"\n",
    "        port: 22\n",
    "        delay: 20\n",
    "        state: started\n",
    "        timeout: 1600\n",
    "     delegate_to: localhost\n",
    "\n",
    "\n",
    "   - name: exchange public ssh key with target\n",
    "     authorized_key:\n",
    "       user: dderichswei\n",
    "       state: present\n",
    "       manage_dir: yes\n",
    "       key: \"{{ lookup('file', '/home/notebook/.ssh/id_rsa.pub') }}\"\n",
    "\n",
    " \n",
    "   - name: Install Nginx\n",
    "     remote_user: dderichswei\n",
    "     become: yes\n",
    "     become_method: sudo\n",
    "     docker_container:\n",
    "        name: nginx\n",
    "        image: nginx:latest\n",
    "        detach: True\n",
    "        ports:\n",
    "            - 80:80\n",
    "     delegate_to: \"{{ ipaddr }}\"\n",
    "\n",
    "   - name: Tweak Nginx\n",
    "     remote_user: dderichswei\n",
    "     become: yes\n",
    "     become_method: sudo\n",
    "     command:  docker exec -it nginx sed -i 's/nginx/TSS2020/g' /usr/share/nginx/html/index.html\n",
    "     delegate_to: \"{{ ipaddr }}\"\n",
    "\n",
    "EOF"
   ]
  },
  {
   "cell_type": "markdown",
   "metadata": {},
   "source": [
    "## run the playbook"
   ]
  },
  {
   "cell_type": "code",
   "execution_count": 5,
   "metadata": {
    "ExecuteTime": {
     "end_time": "2020-03-10T11:46:29.646233Z",
     "start_time": "2020-03-10T11:45:55.604550Z"
    }
   },
   "outputs": [
    {
     "name": "stdout",
     "output_type": "stream",
     "text": [
      "\n",
      "PLAY [all] *********************************************************************\n",
      "\n",
      "TASK [set_fact] ****************************************************************\n",
      "ok: [10.0.33.66]\n",
      "\n",
      "TASK [wait for port 22 to become active] ***************************************\n",
      "ok: [10.0.33.66 -> localhost]\n",
      "\n",
      "TASK [exchange public ssh key with target] *************************************\n",
      "changed: [10.0.33.66]\n",
      "\n",
      "TASK [Install Nginx] ***********************************************************\n",
      "changed: [10.0.33.66 -> 10.0.33.66]\n",
      "\n",
      "TASK [Tweak Nginx] *************************************************************\n",
      "changed: [10.0.33.66 -> 10.0.33.66]\n",
      "\n",
      "PLAY RECAP *********************************************************************\n",
      "10.0.33.66                 : ok=5    changed=3    unreachable=0    failed=0    skipped=0    rescued=0    ignored=0   \n",
      "\n"
     ]
    }
   ],
   "source": [
    "ansible-playbook ./application.yml -i hosts --vault-password-file .vault_password_file"
   ]
  },
  {
   "cell_type": "markdown",
   "metadata": {},
   "source": [
    "http://10.0.33.66"
   ]
  },
  {
   "cell_type": "markdown",
   "metadata": {},
   "source": [
    "# delete deployment"
   ]
  },
  {
   "cell_type": "code",
   "execution_count": null,
   "metadata": {},
   "outputs": [],
   "source": [
    "cat << \\EOF >> delete_deployment_dd.yml\n",
    "EOF"
   ]
  },
  {
   "cell_type": "markdown",
   "metadata": {},
   "source": [
    "# other files you might need"
   ]
  },
  {
   "cell_type": "markdown",
   "metadata": {},
   "source": [
    "## create kickstart file"
   ]
  },
  {
   "cell_type": "code",
   "execution_count": null,
   "metadata": {
    "ExecuteTime": {
     "end_time": "2020-03-09T10:55:07.869719Z",
     "start_time": "2020-03-09T10:55:05.371536Z"
    }
   },
   "outputs": [],
   "source": [
    "cat << \\EOF >> kscentos.cfg.dd \n",
    "lang en_US.UTF-8\n",
    "keyboard de\n",
    "timezone Etc/GMT+1 --isUtc\n",
    "text\n",
    "install\n",
    "skipx\n",
    "network  --bootproto=static --ip={{ipaddr}} --netmask=255.255.255.0 --gateway=10.0.33.254 --nameserver=10.0.20.5 --hostname={{hostn}}\n",
    "firstboot --enable\n",
    "cdrom\n",
    "rootpw $1$JvvxYG0H$UfwsVbYl0R8FNoWAf8Oj01 --iscrypted\n",
    "ignoredisk --only-use=/dev/disk/by-id/dm-name-mpatha\n",
    "zerombr\n",
    "clearpart --all --initlabel\n",
    "autopart --type=lvm\n",
    "auth --passalgo=sha512 --useshadow\n",
    "reboot\n",
    "\n",
    "user --name=dderichswei --password $1$JvvxYG0H$UfwsVbYl0R8FNoWAf8Oj01 --iscrypted --groups=dderichswei,wheel\n",
    "#repo --name=docker --baseurl=https://download.docker.com/linux/centos/docker-ce.repo\n",
    "\n",
    "# Disable firewall and selinux\n",
    "firewall --disabled\n",
    "selinux --disabled\n",
    "\n",
    "%pre\n",
    "%end\n",
    "\n",
    "%packages\n",
    "@Base\n",
    "@Core\n",
    "%end\n",
    "\n",
    "\n",
    "%post\n",
    "echo \"dderichswei        ALL=(ALL)       NOPASSWD: ALL\" >> /etc/sudoers.d/dderichswei\n",
    "sed -i \"s/^.*requiretty/#Defaults requiretty/\" /etc/sudoers\n",
    "\n",
    "/usr/bin/yum-config-manager --add-repo https://download.docker.com/linux/centos/docker-ce.repo\n",
    "/usr/bin/yum install docker-ce -y\n",
    "/usr/bin/systemctl enable docker\n",
    "\n",
    "/usr/sbin/usermod  -a -G docker dderichswei\n",
    "/usr/bin/yum -y install epel-release\n",
    "/usr/bin/yum -y install python-pip\n",
    "/usr/bin/pip install docker-py\n",
    "%end\n",
    "EOF"
   ]
  },
  {
   "cell_type": "markdown",
   "metadata": {},
   "source": [
    "## create oneview_config.json"
   ]
  },
  {
   "cell_type": "code",
   "execution_count": null,
   "metadata": {},
   "outputs": [],
   "source": [
    "cat << \\EOF >> oneview_config.json\n",
    "{\n",
    "  \"ip\": \"10.0.20.50\",\n",
    "  \"credentials\": {\n",
    "    \"userName\": \"user\",\n",
    "    \"authLoginDomain\": \"local\",\n",
    "    \"password\": \"password\"\n",
    "  },\n",
    "  \"image_streamer_ip\": \"10.0.20.54\",\n",
    "  \"api_version\": 1200\n",
    "}\n"
   ]
  },
  {
   "cell_type": "markdown",
   "metadata": {
    "ExecuteTime": {
     "end_time": "2020-03-08T12:52:33.498754Z",
     "start_time": "2020-03-08T12:52:33.395331Z"
    }
   },
   "source": [
    "## if you don´t want to share your password, create a vault file"
   ]
  },
  {
   "cell_type": "code",
   "execution_count": null,
   "metadata": {
    "ExecuteTime": {
     "end_time": "2020-03-08T12:50:13.559973Z",
     "start_time": "2020-03-08T12:50:11.969861Z"
    }
   },
   "outputs": [],
   "source": [
    "cat << \\EOF >> vault.yml\n",
    "    ovpythonPW: !vault |\n",
    "          $ANSIBLE_VAULT;1.1;AES256\n",
    "          62623963656162326433363139363133653630393739356564343536323839326165396162383832\n",
    "          3538333332396132383336623163396439303064313263330a326231646338316138393933313036\n",
    "          31353965393039656661303661306561613633626539313030636538366532646233386333346130\n",
    "          6239343739353364310a353636323539623863333632353063386538306565376234383736383532\n",
    "          3062\n",
    "    iloPW: !vault |\n",
    "          $ANSIBLE_VAULT;1.1;AES256\n",
    "          63386562623766626664663564643539663638393830373539326531383364313530623432623830\n",
    "          3037613863633365613132356338333336323733376665640a373436636530303165643532393632\n",
    "          63643864353733346538663038376630353465303930316434373762613261366561323930353066\n",
    "          3434643164646439360a343363616335623062616331643136616439326134343334366138633838\n",
    "          6330\n",
    "    vcenterPW: !vault |\n",
    "          $ANSIBLE_VAULT;1.1;AES256\n",
    "          38353061353361326238643663306531383634333838303339386137663630653065656439643831\n",
    "          3665393730363038313362633765396161373139396233660a663664323963306361383261323664\n",
    "          36386461633935373266393434653434306162656633636264663964333966373863383232333666\n",
    "          6337313530626238610a646562663463343136393363313866373163353538633165323161653231\n",
    "          6639\n",
    "    ansible_pass: !vault |\n",
    "          $ANSIBLE_VAULT;1.1;AES256\n",
    "          66343332313939356536613862616331343664633736393737646139383535626162333038373464\n",
    "          3832336466353333643161323539646161396237633961360a643936333039386663306433343963\n",
    "          63323966363732613131346564376530613165363730613939386562343038663837613564343334\n",
    "          3639616336373237360a396133396131383439323438386530623430646665333934633164346161\n",
    "          3734\n",
    "\n",
    "EOF"
   ]
  },
  {
   "cell_type": "code",
   "execution_count": null,
   "metadata": {
    "ExecuteTime": {
     "end_time": "2020-03-08T14:11:27.354448Z",
     "start_time": "2020-03-08T14:11:26.462612Z"
    }
   },
   "outputs": [],
   "source": [
    "ansible-vault encrypt_string --vault-password-file .vault_password_file 'Password' --name 'ansible_pass'"
   ]
  },
  {
   "cell_type": "code",
   "execution_count": null,
   "metadata": {
    "ExecuteTime": {
     "end_time": "2020-03-09T17:49:43.933167Z",
     "start_time": "2020-03-09T17:49:43.574389Z"
    }
   },
   "outputs": [],
   "source": [
    "cat << \\EOF > hosts\n",
    "10.0.33.66 ansible_connection=ssh ansible_user=dderichswei ansible_password=Password\n",
    "\n",
    "[all:vars]\n",
    "\n",
    "EOF"
   ]
  }
 ],
 "metadata": {
  "hide_input": false,
  "kernelspec": {
   "display_name": "Bash",
   "language": "bash",
   "name": "bash"
  },
  "language_info": {
   "codemirror_mode": "shell",
   "file_extension": ".sh",
   "mimetype": "text/x-sh",
   "name": "bash"
  },
  "toc": {
   "base_numbering": 1,
   "nav_menu": {},
   "number_sections": true,
   "sideBar": true,
   "skip_h1_title": false,
   "title_cell": "Table of Contents",
   "title_sidebar": "Contents",
   "toc_cell": false,
   "toc_position": {
    "height": "calc(100% - 180px)",
    "left": "10px",
    "top": "150px",
    "width": "512px"
   },
   "toc_section_display": true,
   "toc_window_display": true
  },
  "varInspector": {
   "cols": {
    "lenName": 16,
    "lenType": 16,
    "lenVar": 40
   },
   "kernels_config": {
    "python": {
     "delete_cmd_postfix": "",
     "delete_cmd_prefix": "del ",
     "library": "var_list.py",
     "varRefreshCmd": "print(var_dic_list())"
    },
    "r": {
     "delete_cmd_postfix": ") ",
     "delete_cmd_prefix": "rm(",
     "library": "var_list.r",
     "varRefreshCmd": "cat(var_dic_list()) "
    }
   },
   "types_to_exclude": [
    "module",
    "function",
    "builtin_function_or_method",
    "instance",
    "_Feature"
   ],
   "window_display": false
  }
 },
 "nbformat": 4,
 "nbformat_minor": 2
}
